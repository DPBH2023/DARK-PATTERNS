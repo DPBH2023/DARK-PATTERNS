{
  "nbformat": 4,
  "nbformat_minor": 0,
  "metadata": {
    "colab": {
      "provenance": [],
      "gpuType": "T4"
    },
    "kernelspec": {
      "name": "python3",
      "display_name": "Python 3"
    },
    "language_info": {
      "name": "python"
    },
    "accelerator": "GPU"
  },
  "cells": [
    {
      "cell_type": "code",
      "source": [
        "import pandas as pd\n",
        "from sklearn.model_selection import train_test_split\n",
        "from sklearn.feature_extraction.text import CountVectorizer, TfidfTransformer\n",
        "from sklearn.ensemble import RandomForestClassifier\n",
        "from sklearn.pipeline import Pipeline\n",
        "from joblib import dump\n",
        "\n",
        "# Load and preprocess data from two different datasets\n",
        "df1 = pd.read_csv('/content/sample_data/normie.csv')\n",
        "df2 = pd.read_csv('/content/sample_data/dark_patterns.csv')\n",
        "\n",
        "# Clean and preprocess the first dataset\n",
        "df1 = df1[pd.notnull(df1[\"Pattern String\"])]  # Remove rows with missing values\n",
        "df1 = df1[df1[\"classification\"] == 0]  # Filter only rows with classification 0\n",
        "df1[\"classification\"] = \"Not Dark\"  # Assign label \"Not Dark\"\n",
        "df1.drop_duplicates(subset=\"Pattern String\", inplace=True)  # Remove duplicate patterns\n",
        "\n",
        "# Clean and preprocess the second dataset\n",
        "df2 = df2[pd.notnull(df2[\"Pattern String\"])]  # Remove rows with missing values\n",
        "df2[\"classification\"] = \"Dark\"  # Assign label \"Dark\"\n",
        "col = [\"Pattern String\", \"classification\"]\n",
        "df2 = df2[col]\n",
        "\n",
        "# Concatenate the two datasets\n",
        "df = pd.concat([df1, df2])\n",
        "\n",
        "# Split the dataset into training and testing sets\n",
        "X_train, X_test, y_train, y_test = train_test_split(df['Pattern String'], df[\"classification\"], train_size=0.25)\n",
        "\n",
        "# Define a pipeline for text classification\n",
        "text_clf = Pipeline([\n",
        "    ('vect', CountVectorizer()),  # Convert text to a matrix of token counts\n",
        "    ('tfidf', TfidfTransformer()),  # Transform a count matrix to a normalized tf-idf representation\n",
        "    ('clf', RandomForestClassifier()),  # Random Forest classifier\n",
        "])\n",
        "\n",
        "# Train the model\n",
        "text_clf.fit(X_train, y_train)\n",
        "\n",
        "y_pred = text_clf.predict(X_test)\n",
        "\n",
        "# Evaluate the accuracy of the model\n",
        "accuracy = metrics.accuracy_score(y_pred, y_test)\n",
        "print(\"Accuracy:\", accuracy)\n",
        "\n",
        "# Save the classifier and vectorizer separately\n",
        "dump(text_clf.named_steps['clf'], 'presence_classifier_rf.joblib')\n",
        "dump(text_clf.named_steps['vect'], 'presence_vectorizer_rf.joblib')\n"
      ],
      "metadata": {
        "colab": {
          "base_uri": "https://localhost:8080/"
        },
        "id": "7zwcjQQV4fOk",
        "outputId": "d51861ea-7914-4009-cfd8-7770ba6ed2bb"
      },
      "execution_count": 2,
      "outputs": [
        {
          "output_type": "stream",
          "name": "stdout",
          "text": [
            "Accuracy: 0.9467561521252796\n"
          ]
        },
        {
          "output_type": "execute_result",
          "data": {
            "text/plain": [
              "['presence_vectorizer_rf.joblib']"
            ]
          },
          "metadata": {},
          "execution_count": 2
        }
      ]
    },
    {
      "cell_type": "code",
      "source": [],
      "metadata": {
        "id": "PSiNUKfr5QMi"
      },
      "execution_count": null,
      "outputs": []
    }
  ]
}